{
 "cells": [
  {
   "cell_type": "markdown",
   "metadata": {},
   "source": [
    "# OpEn Rust Advanced Example Test \n",
    "\n",
    "This example solves a simple optimisation problem (advanced example) by using [OpEn's rust interface](https://alphaville.github.io/optimization-engine/docs/openrust-alm).\n",
    "This example is just a duplicate of [this tutorial](https://alphaville.github.io/optimization-engine/docs/openrust-alm), just for a practice purpose.  \n",
    "\n",
    "\n",
    "## Features\n",
    "\n",
    "- This example solves more general problems that involve constraints of the general form $F_1(u) \\in C$ and $F_2(u) = 0$. \n",
    "\n",
    "- This uses ALM/PM solver\n",
    "\n",
    "\n",
    "\n",
    "\n"
   ]
  },
  {
   "cell_type": "markdown",
   "metadata": {},
   "source": [
    "## Implementation\n"
   ]
  },
  {
   "cell_type": "markdown",
   "metadata": {},
   "source": [
    "\n",
    "First, we need to import \"optimization_engine\"\n",
    "- In your local PC, it should be also declared in \"Cargo.toml\".\n",
    "- In this jupyter notebook, we need to have \"extern crate\" as follows. \n"
   ]
  },
  {
   "cell_type": "code",
   "execution_count": 3,
   "metadata": {},
   "outputs": [],
   "source": [
    "extern crate optimization_engine;\n",
    "use optimization_engine::{\n",
    "    alm::*,\n",
    "    constraints::*, panoc::*, *\n",
    "};"
   ]
  },
  {
   "cell_type": "markdown",
   "metadata": {},
   "source": [
    "### Objective Function\n",
    "\n",
    "Suppose that\n",
    "$$f(u) = \\frac{1}{2} \\| u \\|^2 + u_1 + u_2 + u_3$$\n",
    "\n",
    "with gradient\n",
    "\n",
    "$$\\nabla f(u) = u + 1_3 $$\n",
    "\n"
   ]
  },
  {
   "cell_type": "code",
   "execution_count": 4,
   "metadata": {},
   "outputs": [],
   "source": [
    "pub fn f(u: &[f64], cost: &mut f64) -> Result<(), SolverError> {\n",
    "    *cost = 0.5 * matrix_operations::norm2_squared(u) + matrix_operations::sum(u);\n",
    "    Ok(())\n",
    "}\n"
   ]
  },
  {
   "cell_type": "code",
   "execution_count": 5,
   "metadata": {},
   "outputs": [],
   "source": [
    "pub fn df(u: &[f64], grad: &mut [f64]) -> Result<(), SolverError> {\n",
    "    grad.iter_mut()\n",
    "        .zip(u.iter())\n",
    "        .for_each(|(grad_i, u_i)| *grad_i = u_i + 1.0);\n",
    "    Ok(())\n",
    "}"
   ]
  },
  {
   "cell_type": "markdown",
   "metadata": {},
   "source": [
    "### Constraints\n",
    "\n",
    "We impose a constraint:\n",
    "\n",
    "$$F_1(u) \\in C$$\n",
    "where \n",
    "$$F_1(u) = \\begin{bmatrix}\n",
    "2 u_1 + u_3 + 0.5 \\\\\n",
    "u_1 + 3u_2 \n",
    "\\end{bmatrix}$$\n",
    "\n",
    "$$C = \\{z \\in \\mathbb{R}^2: \\|z\\| \\le 1 \\}$$\n",
    "\n"
   ]
  },
  {
   "cell_type": "code",
   "execution_count": 6,
   "metadata": {},
   "outputs": [],
   "source": [
    "pub fn f1(u: &[f64], f1u: &mut [f64]) -> Result<(), SolverError> {\n",
    "    assert!(u.len() == 3, \"the length of u must be equal to 3\");\n",
    "    assert!(f1u.len() == 2, \"the length of F1(u) must be equal to 2\");\n",
    "    f1u[0] = 2.0 * u[0] + u[2] + 0.5;\n",
    "    f1u[1] = u[0] + 3.0 * u[1];\n",
    "    Ok(())\n",
    "}"
   ]
  },
  {
   "cell_type": "markdown",
   "metadata": {},
   "source": [
    "We need to define Jacobian product (I don't understand it yet. I think it is necessary to use the ALM/PM optimisation method). \n",
    "\n",
    "$$JF_1^{\\top} \\cdot d = \\begin{bmatrix}\n",
    "2d_1 + d_2 \\\\\n",
    "3d_2 \\\\\n",
    "d_1\n",
    "\\end{bmatrix}$$\n",
    "\n",
    "where $J F_1$ is the Jacobian matrix of $F_1$ for given vectors $u \\in \\mathbb{R}^3$ (decision variables) and $d \\in \\mathbb{R}^2$ (dimension of constraints?).\n",
    "\n",
    "NOTE:\n",
    "\n",
    "$$JF_1 = \\begin{bmatrix}\n",
    "\\frac{\\partial F_{1,1}}{\\partial u_1} & \\frac{\\partial F_{1,1}}{\\partial u_2} & \\frac{\\partial F_{1,1}}{\\partial u_3} \\\\\n",
    "\\frac{\\partial F_{1,2}}{\\partial u_1} & \\frac{\\partial F_{1,2}}{\\partial u_2} & \\frac{\\partial F_{1,2}}{\\partial u_3} \n",
    "\\end{bmatrix}\n",
    "=\n",
    " \\begin{bmatrix}\n",
    "2 & 0 & 1 \\\\\n",
    "1 & 3 & 0\n",
    "\\end{bmatrix}\n",
    "$$\n"
   ]
  },
  {
   "cell_type": "code",
   "execution_count": 7,
   "metadata": {},
   "outputs": [],
   "source": [
    "pub fn f1_jacobian_product(_u: &[f64], d: &[f64], res: &mut [f64]) -> Result<(), SolverError> {\n",
    "    assert!(d.len() == 2, \"the length of d must be equal to 3\");\n",
    "    assert!(res.len() == 3, \"the length of res must be equal to 3\");\n",
    "    res[0] = 2.0 * d[0] + d[1];\n",
    "    res[1] = 3.0 * d[1];\n",
    "    res[2] = d[0];\n",
    "    Ok(())\n",
    "}"
   ]
  },
  {
   "cell_type": "markdown",
   "metadata": {},
   "source": [
    "Now, the problem we need to solve is\n",
    "\n",
    "$$\\text{Minimise} f(u)$$\n",
    "$$\\text{subject to } -\\frac{1}{2} \\le u_i \\le \\frac{1}{2} \\text{  for all $i$}$$\n",
    "$$F_1(u,p) \\in C$$\n",
    "\n"
   ]
  },
  {
   "cell_type": "markdown",
   "metadata": {},
   "source": [
    "### Invoking the main function\n",
    "\n",
    "#### `AlmFactory` \n",
    "- construct $\\psi$ and its gradient\n",
    "- [Input structure](https://docs.rs/optimization_engine/0.6.2/src/optimization_engine/alm/alm_factory.rs.html#150-186) shoud be\n",
    "\n",
    "```\n",
    "pub fn new(\n",
    "    f: Cost,\n",
    "    df: CostGradient,\n",
    "    mapping_f1: Option<MappingF1>,\n",
    "    jacobian_mapping_f1_trans: Option<JacobianMappingF1Trans>,\n",
    "    mapping_f2: Option<MappingF2>,\n",
    "    jacobian_mapping_f2_trans: Option<JacobianMappingF2Trans>,\n",
    "    set_c: Option<SetC>,\n",
    "    n2: usize,\n",
    ")\n",
    "\n",
    "```"
   ]
  },
  {
   "cell_type": "code",
   "execution_count": 14,
   "metadata": {},
   "outputs": [],
   "source": [
    "fn main() {\n",
    "    let tolerance = 1e-5;\n",
    "    let nx = 3; // problem_size: dimension of the decision variables\n",
    "    let n1 = 2; // range dimensions of mappings F1\n",
    "    let n2 = 0; // range dimensions of mappings F2\n",
    "    let lbfgs_mem = 3; // memory of the LBFGS buffer\n",
    "    \n",
    "    // PANOCCache: All the information needed at every step of the algorithm\n",
    "    let panoc_cache = PANOCCache::new(nx, tolerance, lbfgs_mem);\n",
    "    \n",
    "    // AlmCache: A cache structure that contains all the data \n",
    "    // that make up the state of the ALM/PM algorithm\n",
    "    // (i.e., all those data that the algorithm updates)\n",
    "    let mut alm_cache = AlmCache::new(panoc_cache, n1, n2);\n",
    "\n",
    "    let set_c = Ball2::new(None, 0.5);\n",
    "    let bounds = Ball2::new(None, 10.0);\n",
    "    let set_y = Ball2::new(None, 1e12);\n",
    "\n",
    "    // AlmFactory: Prepare function psi and its gradient \n",
    "    // given the problem data such as f, del_f and \n",
    "    // optionally F_1, JF_1, C, F_2\n",
    "    let factory = AlmFactory::new(\n",
    "        f, // Cost function\n",
    "        df, // Cost Gradient\n",
    "        Some(f1), // MappingF1\n",
    "        Some(f1_jacobian_product), // Jacobian Mapping F1 Trans\n",
    "        NO_MAPPING, // MappingF2\n",
    "        NO_JACOBIAN_MAPPING, // Jacobian Mapping F2 Trans\n",
    "        Some(set_c), // Constraint set\n",
    "        n2,\n",
    "    );\n",
    "\n",
    "    // Define an optimisation problem \n",
    "    // to be solved with AlmOptimizer\n",
    "    let alm_problem = AlmProblem::new(\n",
    "        bounds,\n",
    "        Some(set_c),\n",
    "        Some(set_y),\n",
    "        |u: &[f64], xi: &[f64], cost: &mut f64| -> Result<(), SolverError> {\n",
    "            factory.psi(u, xi, cost)\n",
    "        },\n",
    "        |u: &[f64], xi: &[f64], grad: &mut [f64]| -> Result<(), SolverError> {\n",
    "            factory.d_psi(u, xi, grad)\n",
    "        },\n",
    "        Some(f1),\n",
    "        NO_MAPPING,\n",
    "        n1,\n",
    "        n2,\n",
    "    );\n",
    "\n",
    "    let mut alm_optimizer = AlmOptimizer::new(&mut alm_cache, alm_problem)\n",
    "        .with_delta_tolerance(1e-5)\n",
    "        .with_max_outer_iterations(20)\n",
    "        .with_epsilon_tolerance(1e-6)\n",
    "        .with_initial_inner_tolerance(1e-2)\n",
    "        .with_inner_tolerance_update_factor(0.5)\n",
    "        .with_initial_penalty(100.0)\n",
    "        .with_penalty_update_factor(1.05)\n",
    "        .with_sufficient_decrease_coefficient(0.2)\n",
    "        .with_initial_lagrange_multipliers(&vec![5.0; n1]);\n",
    "\n",
    "    let mut u = vec![0.0; nx];\n",
    "    let solver_result = alm_optimizer.solve(&mut u);\n",
    "    let r = solver_result.unwrap();\n",
    "    println!(\"\\n\\nSolver result : {:#.7?}\\n\", r);\n",
    "    println!(\"Solution u = {:#.6?}\", u);\n",
    "}"
   ]
  },
  {
   "cell_type": "markdown",
   "metadata": {},
   "source": [
    "Let's excute it."
   ]
  },
  {
   "cell_type": "code",
   "execution_count": 16,
   "metadata": {},
   "outputs": [
    {
     "name": "stdout",
     "output_type": "stream",
     "text": [
      "\n",
      "\n",
      "Solver result : AlmOptimizerStatus {\n",
      "    exit_status: Converged,\n",
      "    num_outer_iterations: 15,\n",
      "    num_inner_iterations: 224,\n",
      "    last_problem_norm_fpr: 0.0000005,\n",
      "    lagrange_multipliers: Some(\n",
      "        [\n",
      "            -0.3072591,\n",
      "            -0.3035106,\n",
      "        ],\n",
      "    ),\n",
      "    solve_time: 116.8880000µs,\n",
      "    penalty: 147.7455444,\n",
      "    delta_y_norm: 0.0000116,\n",
      "    f2_norm: 0.0000000,\n",
      "}\n",
      "\n",
      "Solution u = [\n",
      "    -0.081619,\n",
      "    -0.089919,\n",
      "    -0.692479,\n",
      "]\n"
     ]
    }
   ],
   "source": [
    "main();\n"
   ]
  },
  {
   "cell_type": "markdown",
   "metadata": {},
   "source": [
    "Note that, in your local PC, we can run the code by \"cargo build\" and \"cargo run\". \n"
   ]
  }
 ],
 "metadata": {
  "_draft": {
   "nbviewer_url": "https://gist.github.com/4f1590278592d1039147b01c055c21ca"
  },
  "gist": {
   "data": {
    "description": "home/inmo/Jupyter/OpEn_Rust_example.ipynb",
    "public": true
   },
   "id": "4f1590278592d1039147b01c055c21ca"
  },
  "kernelspec": {
   "display_name": "Rust",
   "language": "rust",
   "name": "rust"
  },
  "language_info": {
   "codemirror_mode": "rust",
   "file_extension": ".rs",
   "mimetype": "text/rust",
   "name": "Rust",
   "pygment_lexer": "rust",
   "version": ""
  }
 },
 "nbformat": 4,
 "nbformat_minor": 4
}
