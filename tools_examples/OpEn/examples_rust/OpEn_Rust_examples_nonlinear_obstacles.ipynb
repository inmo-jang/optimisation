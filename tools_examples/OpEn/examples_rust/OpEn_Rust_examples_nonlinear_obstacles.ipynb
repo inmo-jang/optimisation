{
 "cells": [
  {
   "cell_type": "markdown",
   "metadata": {},
   "source": [
    "# OpEn Rust Examples: Various Obstacles - Part 1\n",
    "\n",
    "In the previous example, we implemented a path planner for a mobile robot to avoid multiple circular obstacles. For now, we are going to address **other shaped obstacles** including **nonlinear-shaped obstacles**. This contents will be divided into two parts: (1) Mathematical formations for nonlinear shaped obstacles; (2) Adding a path planner based on them.   \n",
    "\n",
    "\n",
    "## Features\n",
    "\n",
    "- We already learnt about **nonlinear-shaped obstacle** formulation in [Example 06](https://github.com/inmo-jang/optimisation_tutorial/blob/master/tools_examples/OpEn/examples_rust/OpEn_Rust_examples_obs_avoidance_simplified.ipynb). However, uptil now, we had used a circular obstacle for simplicity.  \n",
    "\n",
    "- We use **the numerical gradient function** in [Example 07](https://github.com/inmo-jang/optimisation_tutorial/blob/master/tools_examples/OpEn/examples_rust/OpEn_Rust_examples_general_diff.ipynb), which allows you not to need analytically obtain the derivatives/gradients of objective functions that you are using. \n",
    "\n"
   ]
  },
  {
   "cell_type": "markdown",
   "metadata": {},
   "source": [
    "## Obstacle Constraints Formulation\n",
    "\n",
    "### Preliminary: Basic Form\n",
    "\n",
    "From [Example 06](https://github.com/inmo-jang/optimisation_tutorial/blob/master/tools_examples/OpEn/examples_rust/OpEn_Rust_examples_obs_avoidance_simplified.ipynb), let's remind of that the basic form of obstacle avoidance constraints is as follows:\n",
    "\n",
    "$$ O = \\{ x \\in \\mathbb{R}^{n_d} : h^i(x) > 0, \\forall i \\in \\mathbb{N}_{[1,m]} \\} $$  \n",
    "<div style=\"text-align: right\"> (1) </div>\n",
    "\n",
    "where \n",
    "- $n_d$: the number of space dimensions (normally 2 or 3)\n",
    "- $h^i$: the $i$-th nonlinear function that is formed of the obstacle shape. **This function should be designed such that $h^i$ becomes larger than zero as $x$ moves toward inside the obstacle**. \n",
    "- $\\mathbb{N}_{[1,m]} = \\{1,2,...,m\\}$: a natural number set from 1 to $m$, which is the number of nonlinear functions for the obstacle.\n",
    "\n",
    "\n",
    "Let's say $x$ is the position of a mobile robot. In order for the robot to avoid the obstacle, we should make sure the following constraint for every time instant:\n",
    "\n",
    "$$ x \\notin O $$\n",
    "<div style=\"text-align: right\"> (2) </div>\n",
    "\n",
    "This constraint is equivalent to \n",
    "\n",
    "$$h^i(x) \\le 0, \\text{for some }i \\in \\mathbb{N}_{[1,m]} $$\n",
    "<div style=\"text-align: right\"> (3) </div>\n",
    "\n",
    "which is reduced to \n",
    "\n",
    "$$\\prod_{i=1}^{m} [h^i(x)]^2_{+} = 0$$\n",
    "<div style=\"text-align: right\"> (4) </div>\n",
    "\n",
    "For now, we are going to have a look the mathematical formulations for different types of obstacles. "
   ]
  },
  {
   "cell_type": "markdown",
   "metadata": {},
   "source": [
    "### (1) Elipsoid\n",
    "\n",
    "$$h(x) = 1-(x-c)^{\\top}E(x-c)$$\n",
    "\n",
    "where \n",
    "- $c \\in \\mathbb{R}^{n_d}$ is the centre of the elipsoid\n",
    "- $E \\in \\mathbb{R}^{n_d \\times n_d}$ is a diagonal matrix that controls the size of the elipsoid (i.e. $E = diag(\\frac{1}{r_1^2},..., \\frac{1}{r^2_{n_d}}$) )\n",
    "\n",
    "As $x$ is close to $c$, $h(x)$ becomes higher. \n",
    "\n",
    "#### 2D Implementation\n",
    "\n",
    "For 2D, it can be implemented as follows:"
   ]
  },
  {
   "cell_type": "code",
   "execution_count": 32,
   "metadata": {},
   "outputs": [],
   "source": [
    "// x: user position\n",
    "// elip : (centre_x, centre_y, radius_x, radius_y)\n",
    "fn h_elip(x: &[f64], elip: (f64, f64, f64, f64)) -> f64{\n",
    "    \n",
    "    \n",
    "    let h = (1.0 - ((x[0]-elip.0)/elip.2).powi(2) - ((x[1]-elip.1)/elip.3).powi(2) ).max(0.0);  \n",
    "    \n",
    "    if h > 0.0 {\n",
    "        println!(\"x is inside the obstacle\");\n",
    "    }\n",
    "    else{\n",
    "        println!(\"x is outside the obstacle\");\n",
    "    }\n",
    "    \n",
    "    return h;\n",
    "}\n"
   ]
  },
  {
   "cell_type": "markdown",
   "metadata": {},
   "source": [
    "### (2) Polyhedral\n",
    "\n",
    "$$\\prod_{i=1}^{m} [h^i(x)]^2_{+} = 0$$\n",
    "\n",
    "where \n",
    "$$h^i(x) = b_i - a_i^{\\top} x \\quad \\text{ for each plane $i$ of the object;} $$ \n",
    "\n",
    "- $b_i \\in \\mathbb{R}$: the plane's bias (i.e. distance) from the origin \n",
    "- $a_i \\in \\mathbb{R}^{n_d}$: the outward normal vector of the plane"
   ]
  },
  {
   "cell_type": "markdown",
   "metadata": {},
   "source": [
    "#### 2D Implementation"
   ]
  },
  {
   "cell_type": "code",
   "execution_count": 84,
   "metadata": {},
   "outputs": [],
   "source": [
    "// x: user position\n",
    "// poly : <(a_i, b_i)>\n",
    "fn h_poly(x: &[f64], poly: Vec<((f64, f64), f64)>, centre: (f64, f64)) -> f64{\n",
    "    let mut h: f64 = 1.0;\n",
    "    for i in 0..poly.len(){\n",
    "        let a_i = poly[i].0;\n",
    "        let b_i = poly[i].1;\n",
    "        h *= (b_i - (a_i.0*(x[0] - centre.0) + a_i.1*(x[1]- centre.1))).max(0.0);        \n",
    "    }\n",
    "    \n",
    "    if h > 0.0 {\n",
    "        println!(\"x is inside the obstacle\");\n",
    "    }\n",
    "    else{\n",
    "        println!(\"x is outside the obstacle\");\n",
    "    }\n",
    "    \n",
    "    return h;\n",
    "}"
   ]
  },
  {
   "cell_type": "markdown",
   "metadata": {},
   "source": [
    "### (3) Non-linear Obstacles\n",
    "\n",
    "The followings are non-linear obtacles used in [Sathya et al., 2019](https://arxiv.org/pdf/1904.10546.pdf) (See Fig 3 in the paper).\n",
    "\n",
    "$$O_1 = \\{y > x^2, y < 1 + \\frac{x^2}{2} \\} $$\n",
    "\n",
    "$$O_2 = \\{y > 2 \\sin(-\\frac{x}{2}), y < 3 \\sin(\\frac{x}{2}-1), 1 < x < 8 \\} $$\n",
    "\n",
    "For now, we are implementing them with addition of their central positions as arguments so that we can adjust their positions. \n"
   ]
  },
  {
   "cell_type": "markdown",
   "metadata": {},
   "source": [
    "Then, the constraint for $O_1$ becomes\n",
    "\n",
    "$$\\prod_{i=1}^{m} [h^i(x)]^2_{+} = 0$$\n",
    "\n",
    "where\n",
    "\n",
    "$$h^1 := (y - c_y) - (x - c_x)^2 > 0$$\n",
    "$$h^2 := 1 + \\frac{(x - c_x)^2}{2} - (y - c_y) > 0$$"
   ]
  },
  {
   "cell_type": "code",
   "execution_count": 72,
   "metadata": {},
   "outputs": [],
   "source": [
    "fn h_nlr_1(x: &[f64], centre: (f64, f64)) -> f64{\n",
    "    // x: user position\n",
    "    // centre : (c_x, c_y)    \n",
    "    \n",
    "    let h1 = ((x[1] - centre.1) - ((x[0] - centre.0)).powi(2)).max(0.0);\n",
    "    let h2 = (1.0 + (x[0] - centre.0).powi(2)/2.0 - (x[1] - centre.1)).max(0.0);\n",
    "    \n",
    "    let h = h1*h2;\n",
    "    \n",
    "    if h > 0.0 {\n",
    "        println!(\"x is inside the obstacle\");\n",
    "    }\n",
    "    else{\n",
    "        println!(\"x is outside the obstacle\");\n",
    "    }\n",
    "    \n",
    "    return h;\n",
    "}"
   ]
  },
  {
   "cell_type": "markdown",
   "metadata": {},
   "source": [
    "The constraint for $O_2$ becomes\n",
    "\n",
    "$$\\prod_{i=1}^{m} [h^i(x)]^2_{+} = 0$$\n",
    "\n",
    "where \n",
    "\n",
    "$$h_1 := (y - c_y) - 2 \\sin(-\\frac{x - c_x}{2})$$\n",
    "$$h_{2-1} := 3\\sin(\\frac{x-c_x}{2} - 1) - (y-c_y)$$\n",
    "$$h_{2-2} := x - c_x - 1$$\n",
    "$$h_{2-3} := 8 - (x - c_x)$$"
   ]
  },
  {
   "cell_type": "code",
   "execution_count": 75,
   "metadata": {},
   "outputs": [],
   "source": [
    "fn h_nlr_2(x: &[f64], centre: (f64, f64)) -> f64{\n",
    "    // x: user position\n",
    "    // centre : (c_x, c_y)    \n",
    "    \n",
    "    let h1 = ((x[1] - centre.1) - 2.0*(-(x[0] - centre.0)/2.0).sin()).max(0.0);\n",
    "    let h2_1 = (3.0*(((x[0] - centre.0)/2.0) - 1.0).sin() - (x[1] - centre.1)).max(0.0);\n",
    "    let h2_2 = (x[0] - centre.0 - 1.0).max(0.0);\n",
    "    let h2_3 = (8.0 - (x[0] - centre.0)).max(0.0);\n",
    "    \n",
    "    let h = h1*h2_1*h2_2*h2_3;\n",
    "    \n",
    "    if h > 0.0 {\n",
    "        println!(\"x is inside the obstacle\");\n",
    "    }\n",
    "    else{\n",
    "        println!(\"x is outside the obstacle\");\n",
    "    }\n",
    "    \n",
    "    return h;\n",
    "}"
   ]
  },
  {
   "cell_type": "markdown",
   "metadata": {},
   "source": [
    "### Test\n",
    "\n",
    "- Elipsoid: Center $(5, 0)$ and Radius $(2, 1.5)$\n",
    "- Rectangular: Centre $(0, 0)$, Normal Vectors $\\{ (1,0), (-1,0), (0, 1), (0, -1) \\}$\n",
    "- Pentagonal: Centre $(0, 5)$, Normal Vectors $\\{ (1,2), (-2,1), (-1, -1), (1, -1), (0, -1) \\}$\n",
    "- Non-linear Object One: Centre $(-5, 0)$\n",
    "- Non-linear Object Two: Centre $(-5, -5)$"
   ]
  },
  {
   "cell_type": "markdown",
   "metadata": {},
   "source": [
    "![](https://raw.githubusercontent.com/inmo-jang/optimisation_tutorial/master/tools_examples/OpEn/examples_rust/example_10_nonlinear_obstacles/result.svg)"
   ]
  },
  {
   "cell_type": "code",
   "execution_count": 79,
   "metadata": {},
   "outputs": [
    {
     "name": "stdout",
     "output_type": "stream",
     "text": [
      "x is outside the obstacle\n",
      "x is inside the obstacle\n"
     ]
    }
   ],
   "source": [
    "h_elip(&[3.0, 0.0],(5.0, 0.0, 2.0, 1.5));\n",
    "h_elip(&[3.01, 0.0],(5.0, 0.0, 2.0, 1.5));"
   ]
  },
  {
   "cell_type": "code",
   "execution_count": 89,
   "metadata": {},
   "outputs": [],
   "source": [
    "let mut poly_A = Vec::new();\n",
    "poly_A.push(((1.0_f64, 0.0_f64), 1.0_f64));\n",
    "poly_A.push(((-1.0_f64, 0.0_f64), 1.0_f64));\n",
    "poly_A.push(((0.0_f64, 1.0_f64), 1.0_f64));\n",
    "poly_A.push(((0.0_f64, -1.0_f64), 1.0_f64));"
   ]
  },
  {
   "cell_type": "code",
   "execution_count": 92,
   "metadata": {},
   "outputs": [
    {
     "name": "stdout",
     "output_type": "stream",
     "text": [
      "x is outside the obstacle\n",
      "x is inside the obstacle\n"
     ]
    }
   ],
   "source": [
    "h_poly(&[1.0, 1.0], poly_A.clone(), (0.0, 0.0));\n",
    "h_poly(&[0.999, 0.999], poly_A.clone(), (0.0, 0.0));"
   ]
  },
  {
   "cell_type": "markdown",
   "metadata": {},
   "source": [
    "## Discussion\n",
    "\n",
    "Given a position, the $h$ functions output whether the point is inside the obstacle or not. \n",
    "\n",
    "Soon (i.e. [in the next part](https://github.com/inmo-jang/optimisation_tutorial/blob/master/tools_examples/OpEn/examples_rust/OpEn_Rust_examples_nonlinear_obstacles_02.ipynb)), we will integrate the path planner example along with the above obstacles. \n"
   ]
  }
 ],
 "metadata": {
  "_draft": {
   "nbviewer_url": "https://gist.github.com/4f1590278592d1039147b01c055c21ca"
  },
  "gist": {
   "data": {
    "description": "home/inmo/Jupyter/OpEn_Rust_example.ipynb",
    "public": true
   },
   "id": "4f1590278592d1039147b01c055c21ca"
  },
  "kernelspec": {
   "display_name": "Rust",
   "language": "rust",
   "name": "rust"
  },
  "language_info": {
   "codemirror_mode": "rust",
   "file_extension": ".rs",
   "mimetype": "text/rust",
   "name": "Rust",
   "pygment_lexer": "rust",
   "version": ""
  }
 },
 "nbformat": 4,
 "nbformat_minor": 4
}
