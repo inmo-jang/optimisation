{
 "cells": [
  {
   "cell_type": "markdown",
   "metadata": {},
   "source": [
    "# OpEn Rust Examples: Obstacle Avoidance Constraint\n",
    "\n",
    "In this example, we are going to test a little bit more complicated constraint that was used for **nonlinear-shaped obstacle avoidance** in robotics systems in the following papers [1][2].\n",
    "\n",
    "- [1] [Small et al., 2018, \"Aerial navigation in obstructed environments with embedded nonlinear model predictive control\"](https://arxiv.org/abs/1812.04755)\n",
    "\n",
    "- [2] [Sathya et al., 2019, \"Embedded nonlinear model predictive control for obstacle avoidance using PANOC\"](https://arxiv.org/abs/1904.10546)\n",
    "\n",
    "Now, I am going to introduce the key idea in terms of how to mathematically formulate the obstacle avoidance constraint, then we are going to implement the constraint with a very simple robot model. \n"
   ]
  },
  {
   "cell_type": "markdown",
   "metadata": {},
   "source": [
    "## Obstacle Avoidance Constraint: A Breif Description \n",
    "\n",
    "### Basic form\n",
    "Let's say there are multiple obstacles around a robot. We can consider the $j$-th obstacle as the intersection of a set of $m_j(t)$ nonlinear inequalities:\n",
    "\n",
    "$$ O_j(t) = \\{ p \\in \\mathbb{R}^{n_d} : h_j^i(p,t) > 0, \\forall i \\in \\mathbb{N}_{[1,m_j(t)]} \\} $$  \n",
    "<div style=\"text-align: right\"> [1, Eqn (11)] </div>\n",
    "\n",
    "\n",
    "where \n",
    "- $n_d$: the number of space dimensions (normally 2 or 3)\n",
    "- $h^i_j$: the $i$-th nonlinear function that is formed of the $j$-th obstacle shape\n",
    "- $\\mathbb{N}_{[1,m_j(t)]} = \\{1,2,...,m_j(t)\\}$: a natural number set from 1 to $m_j(t)$, which is the number of nonlinear functions for the obstacle.\n",
    "\n",
    "\n",
    "Let's say $x(t)$ is the position of a mobile robot at time $t$. In order for the robot to avoid the obstacle, we should make sure the following constraint:\n",
    "\n",
    "$$ x(t) \\notin O_j(t) $$\n",
    "<div style=\"text-align: right\"> [1, Eqn (9e)] </div>\n",
    "\n"
   ]
  },
  {
   "cell_type": "markdown",
   "metadata": {},
   "source": [
    "### Another form\n",
    "\n",
    "Since the above constraint is complicated to be considered in an optimisation problem setting, now we are going to reformulate it. \n",
    "\n",
    "#### Reformulation\n",
    "\n",
    "The constraint above is satisfied if and only if\n",
    "\n",
    "$$ h^{i_0}_j( x(t) ,t) \\le 0, \\text{  for some } i_0 \\in \\mathbb{N}_{[1,m_j(t)]} $$\n",
    "<div style=\"text-align: right\"> [2, Eqn (8)] </div>\n",
    "\n",
    "or equvalently\n",
    "\n",
    "$$ [h^{i_0}_j(x(t),t)]^2_{+} := \\max \\{ 0, h^{i_0}_j(x(t),t) \\}^2 = 0. $$\n",
    "\n",
    "This constraint can be encoded as\n",
    "\n",
    "$$ \\psi_{O_j(t)} (x(t)) = 0$$\n",
    "<div style=\"text-align: right\"> [1, Eqn (12)] </div>\n",
    "\n",
    "where\n",
    "\n",
    "$$ \\psi_{O_j(t)} (p) := \\frac{1}{2} \\prod_{i=1}^{m_j(t)} [h^{i}_j(p,t)]^2_{+}.$$\n",
    "<div style=\"text-align: right\"> [1, Eqn (13)] </div>\n",
    "\n",
    "$\\psi_{O_j(t)} (p)$ becomes $0$ if $p$ is outside $O_j(t)$; and increases in the interior of it as $p$ moves away from $O_j(t)$'s boundary. \n"
   ]
  },
  {
   "cell_type": "markdown",
   "metadata": {},
   "source": [
    "#### Gradient\n",
    "\n",
    "Function $\\psi_{O_j(t)} (p)$ is **differentiable** inside $O_j(t)$ with gradient\n",
    "\n",
    "\n",
    "  \\begin{equation}\n",
    "    \\nabla \\psi_{O_j(t)} (p) = \n",
    "    \\begin{cases}\n",
    "      \\sum_{i=1}^{m_j(t)} \\{  \\nabla h_j^i(p,t)  \\cdot h^i_j(p,t) \\cdot \\prod_{k \\neq i} ( h^{k}_j(p,t) ) ^2 \\} , & \\text{if}\\ p \\in O_j(t) \\\\\n",
    "      0, & \\text{otherwise}\n",
    "    \\end{cases}\n",
    "  \\end{equation}\n",
    "<div style=\"text-align: right\"> [2, Eqn (10)] </div>  \n",
    "  "
   ]
  },
  {
   "cell_type": "markdown",
   "metadata": {},
   "source": [
    "#### In a nutshell\n",
    "\n",
    "As long as we can define an obstacle shape by using $h^i(p,t)$ functions, then we can formulate the corresponding obstacle avoidance constraint by using [1, Eqn (12)] and [2, Eqn (10)]. \n"
   ]
  },
  {
   "cell_type": "markdown",
   "metadata": {},
   "source": [
    "### Examples of Obstacle Avoidance Constraints\n",
    "\n",
    "#### (1) Ellipsoids\n",
    "\n",
    "An ellipsoid can be modelled by \n",
    "\n",
    "$$ O = \\{ p \\in \\mathbb{R}^{n_d} : h(p) > 0 \\} $$\n",
    "\n",
    "and it has a single $h$ function\n",
    "\n",
    "$$ h(p) = 1 - (p - c)^{\\top} E (p - c) $$\n",
    "\n",
    "where\n",
    "\n",
    "- $c \\in \\mathbb{R}^{n_d}$: the centre of the ellipsoid\n",
    "- $E$: a diagonal matrix in $\\mathbb{R}^{n_d \\times n_d}$ that controls the ellipsoid's size\n",
    "\n",
    "Then, its reformulated constraint (i.e. [1, Eqn (12)]) becomes\n",
    "\n",
    "$$ \\psi_{O}(p) = \\frac{1}{2}[ 1 - (p - c)^{\\top} E (p - c)]^2_{+} = 0$$\n"
   ]
  },
  {
   "cell_type": "markdown",
   "metadata": {},
   "source": [
    "## Rust Implementation\n",
    "\n",
    "Now, we are going to implement optimisation problems with the constraints above, by using OpEn rust. Here, we use ALM/PM method (for details, see example [03](http://localhost:8888/notebooks/Jupyter/OpEn_Rust_example_ALMPM.ipynb) [04](https://github.com/inmo-jang/optimisation_tutorial/blob/master/tools_examples/OpEn/examples_rust/OpEn_Rust_example_04.ipynb) [05](https://github.com/inmo-jang/optimisation_tutorial/blob/master/tools_examples/OpEn/examples_rust/OpEn_Rust_example_05.ipynb)). \n",
    "\n",
    "\n",
    "\n",
    "\n"
   ]
  },
  {
   "cell_type": "markdown",
   "metadata": {},
   "source": [
    "#### OpEn Implementation\n",
    "\n",
    "First, we need to import \"optimization_engine\"\n",
    "- In your local PC, it should be also declared in \"Cargo.toml\".\n",
    "- Instead, in this jupyter notebook, we need to have \"extern crate\" as follows. \n"
   ]
  },
  {
   "cell_type": "code",
   "execution_count": 2,
   "metadata": {},
   "outputs": [],
   "source": [
    "extern crate optimization_engine;\n",
    "use optimization_engine::{\n",
    "    alm::*,\n",
    "    constraints::*, panoc::*, *\n",
    "};"
   ]
  },
  {
   "cell_type": "markdown",
   "metadata": {},
   "source": [
    "\n",
    "### (1) A simple minimisation problem with an ellipsoid obstacle constraint\n",
    "\n",
    "The optimisation problem that we are going to solve is:\n",
    "\n",
    "Minimise $$f(\\mathbf{u},\\mathbf{p}) = p_1 \\cdot (u_1 - p_2)^2 + p_3$$ \n",
    "\n",
    "\n",
    "subject to \n",
    "\n",
    "$$ \\psi_{O}(\\mathbf{u}) = \\frac{1}{2}[ 1 - (\\mathbf{u} - \\mathbf{c})^{\\top}(\\mathbf{u} - \\mathbf{c})]^2_{+} = 0$$\n",
    "\n",
    "\n",
    "where \n",
    "- $\\mathbf{p} = [p_1, p_2, p_3]^{\\top}$: a parameter set for the objective function\n",
    "- $\\mathbf{u} = [u_1, f(\\mathbf{u},\\mathbf{p})]^{\\top}$: $u_1$ is the actual decision variable; $f(\\mathbf{u},\\mathbf{p})$ is the objective function\n",
    "- $\\mathbf{c} = [c_1, c_2]^{\\top}$: the centre for the ellipsoid constraint\n"
   ]
  },
  {
   "cell_type": "markdown",
   "metadata": {},
   "source": [
    "For simplicity, the above can be rewritten as\n",
    "\n",
    "Minimise $$f(\\mathbf{u}) = u_2$$ \n",
    "<div style=\"text-align: right\"> (P1) </div>\n",
    "\n",
    "subject to \n",
    "\n",
    "$$ \\psi_{O}(\\mathbf{x}) =  [1 - (\\mathbf{u} - \\mathbf{c})^{\\top}(\\mathbf{u} - \\mathbf{c})]_{+} = 0$$\n",
    "<div style=\"text-align: right\"> (P1C) </div> \n",
    "\n",
    "$$ u_2 = p_1 \\cdot (u_1 - p_2)^2 + p_3$$\n",
    "<div style=\"text-align: right\"> (P2C) </div> \n"
   ]
  },
  {
   "cell_type": "markdown",
   "metadata": {},
   "source": [
    "Then, we need to define the objective function that we are going to optimise, and its gradient function. \n",
    "\n"
   ]
  },
  {
   "cell_type": "code",
   "execution_count": 3,
   "metadata": {},
   "outputs": [],
   "source": [
    "pub fn f(u: &[f64], cost: &mut f64) -> Result<(), SolverError> {\n",
    "    *cost = u[1];\n",
    "    Ok(())\n",
    "}"
   ]
  },
  {
   "cell_type": "markdown",
   "metadata": {},
   "source": [
    "Its gradient is \n",
    "\n",
    "$$ \\nabla f(u) = [0,1] $$"
   ]
  },
  {
   "cell_type": "code",
   "execution_count": 4,
   "metadata": {},
   "outputs": [],
   "source": [
    "pub fn df(u: &[f64], grad: &mut [f64]) -> Result<(), SolverError> {\n",
    "    grad[0] = 0.0;\n",
    "    grad[1] = 1.0;\n",
    "    Ok(())\n",
    "}"
   ]
  },
  {
   "cell_type": "markdown",
   "metadata": {},
   "source": [
    "The two constraints (P1C and P2C) are rewritten as\n",
    "\n",
    "\n",
    "$$F_1(u) = \n",
    "\\begin{bmatrix}\n",
    " \\max \\{ 0, 1- (u_1 - c_1)^2 - (u_2 - c_2)^2 \\}  \\\\\n",
    "p_1 \\cdot (u_1 - p_2)^2 + p_3 - u_2 \n",
    "\\end{bmatrix} = \\{0\\}$$\n"
   ]
  },
  {
   "cell_type": "code",
   "execution_count": 5,
   "metadata": {},
   "outputs": [],
   "source": [
    "pub fn _f1(u: &[f64], p: &[f64], centre: &[f64], f1u: &mut [f64]) {\n",
    "    f1u[0] = (1.0 - (u[0]-centre[0]).powi(2) - (u[1]-centre[1]).powi(2) ).max(0.0);\n",
    "    f1u[1] = p[0]*(u[0] - p[1]).powi(2) + p[2] - u[1];\n",
    "}"
   ]
  },
  {
   "cell_type": "markdown",
   "metadata": {},
   "source": [
    "We need to define its Jacobian product $JF_1^{\\top} \\cdot d$, as follows:\n",
    "\n",
    "$$JF_1 = \\begin{bmatrix}\n",
    "\\frac{\\partial F_{1,1}}{\\partial u_1} & \\frac{\\partial F_{1,1}}{\\partial u_2} \\\\\n",
    "\\frac{\\partial F_{1,2}}{\\partial u_1} & \\frac{\\partial F_{1,2}}{\\partial u_2}\n",
    "\\end{bmatrix}\n",
    "=\n",
    " \\begin{bmatrix}\n",
    "-(u_1 - c_1) & -(u_2 - c_2)  \\\\\n",
    "2 p_1 (u_1 - p_2) & -1 \n",
    "\\end{bmatrix}\n",
    "$$\n",
    "\n",
    "Hence, \n",
    "$$JF_1^{\\top} \\cdot d = \\begin{bmatrix}\n",
    "-(u_1 - c_1)d_1 + 2 p_1 (u_1 - p_2) d_2  \\\\\n",
    "-(u_2 - c_2)d_1 - d_2\n",
    "\\end{bmatrix}$$"
   ]
  },
  {
   "cell_type": "code",
   "execution_count": 6,
   "metadata": {},
   "outputs": [],
   "source": [
    "pub fn _f1_jacobian_product(u: &[f64], d: &[f64], p: &[f64], centre: &[f64], res: &mut [f64]) {\n",
    "\n",
    "    \n",
    "    let test = (1.0 - (u[0]-centre[0]).powi(2) - (u[1]-centre[1])).powi(2);\n",
    "    let f11u1 = 0.0;\n",
    "    let f11u2 = 0.0;\n",
    "    if  test > 0.0 { // Inside the obstacle\n",
    "        let f11u1 = -(u[0] - centre[0]);\n",
    "        let f11u2 = -(u[1] - centre[1]);\n",
    "    } \n",
    "    \n",
    "    res[0] = f11u1*d[0] + 2.0*p[0]*(u[0]-p[1])*d[1];\n",
    "    res[1] = f11u2*d[0] - d[1];\n",
    "}"
   ]
  },
  {
   "cell_type": "markdown",
   "metadata": {},
   "source": [
    "Now, let's solve this problem:"
   ]
  },
  {
   "cell_type": "code",
   "execution_count": 7,
   "metadata": {
    "code_folding": []
   },
   "outputs": [],
   "source": [
    "fn main(p: &[f64], centre: &[f64]) {\n",
    "    let tolerance = 1e-5;\n",
    "    let nx = 2; // problem_size: dimension of the decision variables\n",
    "    let n1 = 2; // range dimensions of mappings F1\n",
    "    let n2 = 0; // range dimensions of mappings F2\n",
    "    let lbfgs_mem = 5; // memory of the LBFGS buffer\n",
    "    \n",
    "    // PANOCCache: All the information needed at every step of the algorithm\n",
    "    let panoc_cache = PANOCCache::new(nx, tolerance, lbfgs_mem);\n",
    "    \n",
    "    // AlmCache: A cache structure that contains all the data \n",
    "    // that make up the state of the ALM/PM algorithm\n",
    "    // (i.e., all those data that the algorithm updates)\n",
    "    let mut alm_cache = AlmCache::new(panoc_cache, n1, n2);\n",
    "\n",
    "    let set_c = Zero::new(); // Set C\n",
    "    let bounds = Ball2::new(None, 100.0); // Set U\n",
    "    let set_y = Ball2::new(None, 1e12);  // Set Y\n",
    "\n",
    "    // ============= \n",
    "    // Re-define the functions linked to user parameters\n",
    "    let f1 = |u: &[f64], f1u: &mut [f64]| -> Result<(), SolverError> {\n",
    "        _f1(u, &p, &centre, f1u);\n",
    "        Ok(())\n",
    "    };    \n",
    "    \n",
    "    let f1_jacobian_product = |u: &[f64], d: &[f64], res: &mut [f64]| -> Result<(), SolverError> {\n",
    "        _f1_jacobian_product(u, d, &p, &centre, res);\n",
    "        Ok(())\n",
    "    };      \n",
    "    // ==============\n",
    "    \n",
    "    // AlmFactory: Prepare function psi and its gradient \n",
    "    // given the problem data such as f, del_f and \n",
    "    // optionally F_1, JF_1, C, F_2\n",
    "    let factory = AlmFactory::new(\n",
    "        f, // Cost function\n",
    "        df, // Cost Gradient\n",
    "        Some(f1), // MappingF1\n",
    "        Some(f1_jacobian_product), // Jacobian Mapping F1 Trans\n",
    "        NO_MAPPING, // MappingF2\n",
    "        NO_JACOBIAN_MAPPING, // Jacobian Mapping F2 Trans\n",
    "        Some(set_c), // Constraint set\n",
    "        n2,\n",
    "    );\n",
    "\n",
    "    // Define an optimisation problem \n",
    "    // to be solved with AlmOptimizer\n",
    "    let alm_problem = AlmProblem::new(\n",
    "        bounds,\n",
    "        Some(set_c),\n",
    "        Some(set_y),\n",
    "        |u: &[f64], xi: &[f64], cost: &mut f64| -> Result<(), SolverError> {\n",
    "            factory.psi(u, xi, cost)\n",
    "        },\n",
    "        |u: &[f64], xi: &[f64], grad: &mut [f64]| -> Result<(), SolverError> {\n",
    "            factory.d_psi(u, xi, grad)\n",
    "        },\n",
    "        Some(f1),\n",
    "        NO_MAPPING,\n",
    "        n1,\n",
    "        n2,\n",
    "    );\n",
    "\n",
    "    let mut alm_optimizer = AlmOptimizer::new(&mut alm_cache, alm_problem)\n",
    "        .with_delta_tolerance(1e-5)\n",
    "        .with_max_outer_iterations(200)\n",
    "        .with_epsilon_tolerance(1e-6)\n",
    "        .with_initial_inner_tolerance(1e-2)\n",
    "        .with_inner_tolerance_update_factor(0.5)\n",
    "        .with_initial_penalty(100.0)\n",
    "        .with_penalty_update_factor(1.05)\n",
    "        .with_sufficient_decrease_coefficient(0.2)\n",
    "        .with_initial_lagrange_multipliers(&vec![5.0; n1]);\n",
    "\n",
    "    let mut u = vec![0.0; nx]; // Initial guess\n",
    "    let solver_result = alm_optimizer.solve(&mut u);\n",
    "    let r = solver_result.unwrap();\n",
    "    println!(\"\\n\\nSolver result : {:#.7?}\\n\", r);\n",
    "    println!(\"Solution u = {:#.6?}\", u);\n",
    "}"
   ]
  },
  {
   "cell_type": "markdown",
   "metadata": {},
   "source": [
    "#### Result\n",
    "\n",
    "##### Case (1) : $\\mathbf{p} = [0.5, 0.0, 0.0]$; and $\\mathbf{c} = [0.0, 0.0]$\n"
   ]
  },
  {
   "cell_type": "code",
   "execution_count": 8,
   "metadata": {},
   "outputs": [
    {
     "name": "stdout",
     "output_type": "stream",
     "text": [
      "\n",
      "\n",
      "Solver result : AlmOptimizerStatus {\n",
      "    exit_status: NotConvergedIterations,\n",
      "    num_outer_iterations: 200,\n",
      "    num_inner_iterations: 294357,\n",
      "    last_problem_norm_fpr: 0.0000002,\n",
      "    lagrange_multipliers: Some(\n",
      "        [\n",
      "            418903.3411792,\n",
      "            -0.1598174,\n",
      "        ],\n",
      "    ),\n",
      "    solve_time: 1.2080253s,\n",
      "    penalty: 1422664.9032171,\n",
      "    delta_y_norm: 11169.1870569,\n",
      "    f2_norm: 0.0000000,\n",
      "}\n",
      "\n",
      "Solution u = [\n",
      "    -0.906969,\n",
      "    0.411296,\n",
      "]\n"
     ]
    }
   ],
   "source": [
    "main(&[0.5, 0.0, 0.0], &[0.0, 0.0]);"
   ]
  },
  {
   "cell_type": "markdown",
   "metadata": {},
   "source": [
    "##### Discussion regarding `with_max_outer_iterations`\n",
    "- The above result shows that $\\sqrt{(-0.906969)^2 + (0.411296)^2} = 0.9957$, which should have been $1$. This violation of the constraint seems to be because of `num_outer_iterations`. See the result saying that `exit_status: NotConvergedIterations`. If we have `.with_max_outer_iterations(20000)` instead, the result becomes much closer to 1. \n",
    "\n",
    "```\n",
    "Solver result : AlmOptimizerStatus {\n",
    "    exit_status: Converged,\n",
    "    num_outer_iterations: 15841,\n",
    "    num_inner_iterations: 294598,\n",
    "    last_problem_norm_fpr: 0.0000003,\n",
    "    lagrange_multipliers: Some(\n",
    "        [\n",
    "            13042371154156472153855234973664144029470618410860165048517000607377595587216413717926002755063360427685147309074955380215484788703290607983858748435202048.0000000,\n",
    "            -423753861818101173183033768863923337961929353698038541150171630273247468286124610675679897724729598403957822352154925420157726222643676129874240493060096.0000000,\n",
    "        ],\n",
    "    ),\n",
    "    solve_time: 685.3194070ms,\n",
    "    penalty: 1314173191634037641867321827952707564425574569942640742965913261261991610173351306165449104273636083623511981029636043416492478574566316102250934036316035219456.0000000,\n",
    "    delta_y_norm: 13049253337190544769480745317718605727474957653716969434776105632101374675741179779251287164398950375716031261056815864055903190176215976986135912459010048.0000000,\n",
    "    f2_norm: 0.0000000,\n",
    "}\n",
    "\n",
    "Solution u = [\n",
    "    -0.910176,\n",
    "    0.414210,\n",
    "]\n",
    "```\n",
    "\n",
    " \n",
    "\n"
   ]
  },
  {
   "cell_type": "markdown",
   "metadata": {},
   "source": [
    "##### Case (2) : $\\mathbf{p} = [0.5, 0.0, 0.0]$; and $\\mathbf{c} = [-0.25, 0.0]$\n",
    "\n"
   ]
  },
  {
   "cell_type": "code",
   "execution_count": 9,
   "metadata": {},
   "outputs": [
    {
     "name": "stdout",
     "output_type": "stream",
     "text": [
      "\n",
      "\n",
      "Solver result : AlmOptimizerStatus {\n",
      "    exit_status: NotConvergedIterations,\n",
      "    num_outer_iterations: 200,\n",
      "    num_inner_iterations: 135491,\n",
      "    last_problem_norm_fpr: 0.0000005,\n",
      "    lagrange_multipliers: Some(\n",
      "        [\n",
      "            1408361.2510441,\n",
      "            -0.0600980,\n",
      "        ],\n",
      "    ),\n",
      "    solve_time: 565.9462160ms,\n",
      "    penalty: 1290399.0051856,\n",
      "    delta_y_norm: 66981.4338340,\n",
      "    f2_norm: 0.0000000,\n",
      "}\n",
      "\n",
      "Solution u = [\n",
      "    -1.050587,\n",
      "    0.551867,\n",
      "]\n"
     ]
    }
   ],
   "source": [
    "main(&[0.5, 0.0, 0.0], &[-0.25, 0.0]);"
   ]
  },
  {
   "cell_type": "markdown",
   "metadata": {},
   "source": [
    "#### Discussion regarding initial guess $u$\n",
    "\n",
    "- Actually, the result should have positive $u_1$, which is not the case here. That is because of the initial guess being used. If we have `let mut u = vec![0.01; nx];`, then the result becomes\n",
    "\n",
    "```\n",
    "Solver result : AlmOptimizerStatus {\n",
    "    exit_status: Converged,\n",
    "    num_outer_iterations: 143,\n",
    "    num_inner_iterations: 124212,\n",
    "    last_problem_norm_fpr: 0.0000001,\n",
    "    lagrange_multipliers: Some(\n",
    "        [\n",
    "            4945.6339502,\n",
    "            3.6234874,\n",
    "        ],\n",
    "    ),\n",
    "    solve_time: 265.9254640ms,\n",
    "    penalty: 83969.8295572,\n",
    "    delta_y_norm: 0.7404363,\n",
    "    f2_norm: 0.0000000,\n",
    "}\n",
    "\n",
    "Solution u = [\n",
    "    0.716492,\n",
    "    0.256681,\n",
    "]\n",
    "```\n",
    "\n",
    "- The result also shows that an appropriate initial guess can reduce the number of required iterations for convergence. \n"
   ]
  },
  {
   "cell_type": "markdown",
   "metadata": {},
   "source": [
    "##### Case (3) : $\\mathbf{p} = [0.5, -0.5, 0.0]$; and $\\mathbf{c} = [0.0, 0.0]$"
   ]
  },
  {
   "cell_type": "code",
   "execution_count": 10,
   "metadata": {},
   "outputs": [
    {
     "name": "stdout",
     "output_type": "stream",
     "text": [
      "\n",
      "\n",
      "Solver result : AlmOptimizerStatus {\n",
      "    exit_status: NotConvergedIterations,\n",
      "    num_outer_iterations: 200,\n",
      "    num_inner_iterations: 146713,\n",
      "    last_problem_norm_fpr: 0.0000000,\n",
      "    lagrange_multipliers: Some(\n",
      "        [\n",
      "            24603222.0202653,\n",
      "            0.9999934,\n",
      "        ],\n",
      "    ),\n",
      "    solve_time: 518.7304490ms,\n",
      "    penalty: 1646912.4585867,\n",
      "    delta_y_norm: 1173307.9920330,\n",
      "    f2_norm: 0.0000000,\n",
      "}\n",
      "\n",
      "Solution u = [\n",
      "    -0.501946,\n",
      "    0.000002,\n",
      "]\n"
     ]
    }
   ],
   "source": [
    "main(&[0.5, -0.5, 0.0], &[0.0, 0.0]);"
   ]
  },
  {
   "cell_type": "markdown",
   "metadata": {},
   "source": [
    "#### Discussion\n",
    "\n",
    "- I used another initial guess `let mut u = vec![-10.0,100.0]`\n",
    "\n",
    "- Also used more max_iteration `.with_max_outer_iterations(200000)`\n",
    "\n",
    "```\n",
    "Solver result : AlmOptimizerStatus {\n",
    "    exit_status: Converged,\n",
    "    num_outer_iterations: 4712,\n",
    "    num_inner_iterations: 361,\n",
    "    last_problem_norm_fpr: 0.0000001,\n",
    "    lagrange_multipliers: Some(\n",
    "        [\n",
    "            5976883622830658845248063464346752524709298600838388224476889604094220605747149755684405781725184.0000000,\n",
    "            -69101021379080966758879847606054738488281126479954440574070188930121413196685134303076548608000.0000000,\n",
    "        ],\n",
    "    ),\n",
    "    solve_time: 5.1134950ms,\n",
    "    penalty: 603127763126907906755649330948729811734730445314381263460459221876363493539180583510258581622531031040.0000000,\n",
    "    delta_y_norm: 5977283061058509043015099253727812474755596146491414834183257557507118217200494501180480675643392.0000000,\n",
    "    f2_norm: 0.0000000,\n",
    "}\n",
    "\n",
    "Solution u = [\n",
    "    -0.992607,\n",
    "    0.121331,\n",
    "]\n",
    "```"
   ]
  },
  {
   "cell_type": "markdown",
   "metadata": {},
   "source": [
    "##### Case (4) : $\\mathbf{p} = [0.1, 0.0, 0.0]$; and $\\mathbf{c} = [0.5, 0.0]$"
   ]
  },
  {
   "cell_type": "code",
   "execution_count": 11,
   "metadata": {},
   "outputs": [
    {
     "name": "stdout",
     "output_type": "stream",
     "text": [
      "\n",
      "\n",
      "Solver result : AlmOptimizerStatus {\n",
      "    exit_status: NotConvergedIterations,\n",
      "    num_outer_iterations: 200,\n",
      "    num_inner_iterations: 6262,\n",
      "    last_problem_norm_fpr: 0.0000003,\n",
      "    lagrange_multipliers: Some(\n",
      "        [\n",
      "            24702201.4098780,\n",
      "            1.1272551,\n",
      "        ],\n",
      "    ),\n",
      "    solve_time: 26.2890600ms,\n",
      "    penalty: 1646912.4585867,\n",
      "    delta_y_norm: 1176366.0421865,\n",
      "    f2_norm: 0.0000000,\n",
      "}\n",
      "\n",
      "Solution u = [\n",
      "    0.000000,\n",
      "    -0.000000,\n",
      "]\n"
     ]
    }
   ],
   "source": [
    "main(&[0.1, 0.0, 0.0], &[0.5, 0.0]);"
   ]
  },
  {
   "cell_type": "markdown",
   "metadata": {},
   "source": [
    "- Re-solve with another initial guess `let mut u = vec![-10.0, 0.0];` along with `with_max_outer_iterations(200000)`\n",
    "\n",
    "```\n",
    "Solver result : AlmOptimizerStatus {\n",
    "    exit_status: Converged,\n",
    "    num_outer_iterations: 58212,\n",
    "    num_inner_iterations: 505,\n",
    "    last_problem_norm_fpr: 0.0000000,\n",
    "    lagrange_multipliers: Some(\n",
    "        [\n",
    "            13404549262479835859589751960528458747089645770673533789043717319399913427339339649894823677542737890532912175920611259535236215980552009743086975979618304.0000000,\n",
    "            -36087273675454447961635736381068040923436891998998803552880018912595707759007342697397663450575419910571250849302105127966573820973304429961460481785856.0000000,\n",
    "        ],\n",
    "    ),\n",
    "    solve_time: 56.1390930ms,\n",
    "    penalty: 1379881851215739514205223699612867219579361955336128074649839728497056344247153372644434875675550324928731008007705435712857942748898935359088556740355945398272.0000000,\n",
    "    delta_y_norm: 13404597838859994525841441037492313287571256763071118491702576132599371299634447257190855189024608715345730234127782723897537779342065412648792381468966912.0000000,\n",
    "    f2_norm: 0.0000000,\n",
    "}\n",
    "\n",
    "Solution u = [\n",
    "    -0.499683,\n",
    "    0.024968,\n",
    "]\n",
    "```\n"
   ]
  },
  {
   "cell_type": "markdown",
   "metadata": {},
   "source": [
    "##### Case (5) : $\\mathbf{p} = [-0.5, -0.5864, 0.0]$; and $\\mathbf{c} = [-\n",
    "3.0, 2.0]$"
   ]
  },
  {
   "cell_type": "code",
   "execution_count": 12,
   "metadata": {},
   "outputs": [
    {
     "name": "stdout",
     "output_type": "stream",
     "text": [
      "\n",
      "\n",
      "Solver result : AlmOptimizerStatus {\n",
      "    exit_status: Converged,\n",
      "    num_outer_iterations: 15,\n",
      "    num_inner_iterations: 17,\n",
      "    last_problem_norm_fpr: 0.0000001,\n",
      "    lagrange_multipliers: Some(\n",
      "        [\n",
      "            5.0000000,\n",
      "            0.9999987,\n",
      "        ],\n",
      "    ),\n",
      "    solve_time: 37.4400000µs,\n",
      "    penalty: 171.0339358,\n",
      "    delta_y_norm: 0.0000026,\n",
      "    f2_norm: 0.0000000,\n",
      "}\n",
      "\n",
      "Solution u = [\n",
      "    -0.586389,\n",
      "    0.000000,\n",
      "]\n"
     ]
    }
   ],
   "source": [
    "main(&[0.5, -0.5864, 0.0], &[-3.0, 2.0]);"
   ]
  },
  {
   "cell_type": "markdown",
   "metadata": {},
   "source": [
    "In this case, the circle constraint does not cover the minimum point of the cost function. Thus, the optimal value should be zero, where $u_1 = p_2$.\n",
    "\n",
    "\n"
   ]
  },
  {
   "cell_type": "markdown",
   "metadata": {},
   "source": [
    "## Summary\n",
    "\n",
    "- If your outcome's `exit_status` is not converged, then you should modify `with_max_outer_iterations` or **initial guess**. \n",
    "\n"
   ]
  }
 ],
 "metadata": {
  "_draft": {
   "nbviewer_url": "https://gist.github.com/4f1590278592d1039147b01c055c21ca"
  },
  "gist": {
   "data": {
    "description": "home/inmo/Jupyter/OpEn_Rust_example.ipynb",
    "public": true
   },
   "id": "4f1590278592d1039147b01c055c21ca"
  },
  "kernelspec": {
   "display_name": "Rust",
   "language": "rust",
   "name": "rust"
  },
  "language_info": {
   "codemirror_mode": "rust",
   "file_extension": ".rs",
   "mimetype": "text/rust",
   "name": "Rust",
   "pygment_lexer": "rust",
   "version": ""
  }
 },
 "nbformat": 4,
 "nbformat_minor": 4
}
