{
 "cells": [
  {
   "cell_type": "markdown",
   "metadata": {},
   "source": [
    "# OpEn Rust Example Test\n",
    "\n",
    "This example solves a simple optimisation problem by using [OpEn's rust interface](https://alphaville.github.io/optimization-engine/docs/openrust-basic).\n",
    "\n",
    "## Problem Formulation\n",
    "\n",
    "**OpEn** can solve problems of the form:\n",
    "\n",
    "$$\\min_{u \\in \\mathbb{R}^{n_u}} f(u,p)$$\n",
    "\n",
    "\n",
    "subject to\n",
    "\n",
    "$$u \\in U(p)$$\n",
    "\n",
    "\n",
    "\n",
    "where \n",
    "- $f$ is a $C^{1,1}$ function (continously differentiable with Lipschitz-continuous gradient); \n",
    "- $U$ is a set where we may project.\n",
    "\n",
    "\n",
    "\n"
   ]
  },
  {
   "cell_type": "markdown",
   "metadata": {},
   "source": [
    "## Example 1: panoc_ex1.rs\n"
   ]
  },
  {
   "cell_type": "markdown",
   "metadata": {},
   "source": [
    "The following is \"panoc_ex1.rs\" example in [here](https://alphaville.github.io/optimization-engine/docs/openrust-basic).\n",
    "\n",
    "\n",
    "First, we need to import \"optimization_engine\"\n",
    "- In your local PC, it should be also declared in \"Cargo.toml\".\n",
    "- In this jupyter notebook, we need to have \"extern crate\" as follows. \n"
   ]
  },
  {
   "cell_type": "code",
   "execution_count": 2,
   "metadata": {},
   "outputs": [],
   "source": [
    "extern crate optimization_engine;\n",
    "use optimization_engine::{constraints::*, panoc::*, *};"
   ]
  },
  {
   "cell_type": "markdown",
   "metadata": {},
   "source": [
    "Then, we need to define the objective function that we are going to optimise, and its gradient function. \n",
    "\n",
    "In this example, we use Rosenbrock function. \n",
    "\n",
    "$$f(u,a,b) = (a - u_1)^2 + b(u_2 - u_1^2)^2$$\n",
    "\n",
    "with gradient\n",
    "\n",
    "$$\\frac{df(u,a,b)}{du} = [2(u_1 - a) - 4 b u_1 (u_2 - u_1^2), 2 b (u_2 - u_1^2) ]^{T}$$\n",
    "\n"
   ]
  },
  {
   "cell_type": "code",
   "execution_count": 3,
   "metadata": {},
   "outputs": [],
   "source": [
    "fn rosenbrock_cost(a: f64, b: f64, u: &[f64]) -> f64 {\n",
    "    (a - u[0]).powi(2) + b * (u[1] - u[0].powi(2)).powi(2)\n",
    "}\n"
   ]
  },
  {
   "cell_type": "code",
   "execution_count": 4,
   "metadata": {},
   "outputs": [],
   "source": [
    "fn rosenbrock_grad(a: f64, b: f64, u: &[f64], grad: &mut [f64]) {\n",
    "    grad[0] = 2.0 * u[0] - 2.0 * a - 4.0 * b * u[0] * (-u[0].powi(2) + u[1]);\n",
    "    grad[1] = b * (-2.0 * u[0].powi(2) + 2.0 * u[1]);\n",
    "}"
   ]
  },
  {
   "cell_type": "markdown",
   "metadata": {},
   "source": [
    "Now, the main function should look like this:"
   ]
  },
  {
   "cell_type": "code",
   "execution_count": 5,
   "metadata": {},
   "outputs": [],
   "source": [
    "fn main() {\n",
    "    /* USER PARAMETERS */\n",
    "    let tolerance = 1e-14;\n",
    "    let a = 1.0;\n",
    "    let b = 200.0;\n",
    "    let problem_size = 2;\n",
    "    let lbfgs_memory_size = 10;\n",
    "    let max_iters = 80;\n",
    "    let mut u = [-1.5, 0.9];\n",
    "    let radius = 1.0;\n",
    "\n",
    "    // define the cost function and its gradient\n",
    "    let df = |u: &[f64], grad: &mut [f64]| -> Result<(), SolverError> {\n",
    "        if a < 0.0 || b < 0.0 {\n",
    "            Err(SolverError::Cost)\n",
    "        } else {\n",
    "            rosenbrock_grad(a, b, u, grad);\n",
    "            Ok(())\n",
    "        }\n",
    "    };\n",
    "\n",
    "    let f = |u: &[f64], c: &mut f64| -> Result<(), SolverError> {\n",
    "        if a < 0.0 || b < 0.0 {\n",
    "            Err(SolverError::Cost)\n",
    "        } else {\n",
    "            *c = rosenbrock_cost(a, b, u);\n",
    "            Ok(())\n",
    "        }\n",
    "    };\n",
    "\n",
    "    // define the constraints\n",
    "    let bounds = Ball2::new(None, radius);\n",
    "\n",
    "    /* PROBLEM STATEMENT */\n",
    "    let problem = Problem::new(&bounds, df, f);\n",
    "    let mut panoc_cache = PANOCCache::new(problem_size, tolerance, lbfgs_memory_size);\n",
    "    let mut panoc = PANOCOptimizer::new(problem, &mut panoc_cache).with_max_iter(max_iters);\n",
    "\n",
    "    // Invoke the solver\n",
    "    let status = panoc.solve(&mut u);\n",
    "\n",
    "    println!(\"Panoc status: {:#?}\", status);\n",
    "    println!(\"Panoc solution: {:#?}\", u);\n",
    "}"
   ]
  },
  {
   "cell_type": "markdown",
   "metadata": {},
   "source": [
    "Let's excute it."
   ]
  },
  {
   "cell_type": "code",
   "execution_count": 6,
   "metadata": {},
   "outputs": [
    {
     "name": "stdout",
     "output_type": "stream",
     "text": [
      "Panoc status: Ok(\n",
      "    SolverStatus {\n",
      "        exit_status: Converged,\n",
      "        num_iter: 58,\n",
      "        solve_time: 23.286µs,\n",
      "        fpr_norm: 0.000000000000002826166425630795,\n",
      "        cost_value: 0.04570299540701696,\n",
      "    },\n",
      ")\n",
      "Panoc solution: [\n",
      "    0.7862834045323073,\n",
      "    0.6178660111683472,\n",
      "]\n"
     ]
    }
   ],
   "source": [
    "main();\n"
   ]
  },
  {
   "cell_type": "markdown",
   "metadata": {},
   "source": [
    "Note that, in your local PC, we can run the code by \"cargo build\" and \"cargo run\". \n"
   ]
  },
  {
   "cell_type": "markdown",
   "metadata": {},
   "source": [
    "## Example 2:\n",
    "\n",
    "Minimise $$f(x,p) = (x - p_1)^2$$ \n",
    "\n",
    "subject to $$x \\le p_2$$\n",
    "\n",
    "where $p \\in \\mathbb{R}$."
   ]
  },
  {
   "cell_type": "code",
   "execution_count": 7,
   "metadata": {},
   "outputs": [],
   "source": [
    "fn example_two_cost(p: &[f64], u: &[f64]) -> f64 {\n",
    "    (u[0] - p[0]).powi(2)\n",
    "}"
   ]
  },
  {
   "cell_type": "markdown",
   "metadata": {},
   "source": [
    "Its gradient is \n",
    "\n",
    "$$ df(x,p) = 2(x-p_1) $$"
   ]
  },
  {
   "cell_type": "code",
   "execution_count": 8,
   "metadata": {},
   "outputs": [],
   "source": [
    "fn example_two_grad(p: &[f64], u: &[f64], grad: &mut [f64]) {\n",
    "    grad[0] = 2.0 * (u[0] - p[0]);\n",
    "}"
   ]
  },
  {
   "cell_type": "markdown",
   "metadata": {},
   "source": [
    "Now, the main is"
   ]
  },
  {
   "cell_type": "code",
   "execution_count": 9,
   "metadata": {},
   "outputs": [],
   "source": [
    "fn main_example_two(_p: &[f64]) {\n",
    "    /* USER PARAMETERS */\n",
    "    let tolerance = 1e-14;\n",
    "    let p = _p;\n",
    "    let problem_size = 2;\n",
    "    let lbfgs_memory_size = 10;\n",
    "    let max_iters = 80;\n",
    "    let mut u = [-1.5, 0.9];\n",
    "    \n",
    "    let mut upper_bound: Vec<f64> = Vec::new();\n",
    "    upper_bound.push(p[1]);\n",
    "    // upper_bound.push(0.0);\n",
    "\n",
    "    // define the cost function and its gradient\n",
    "    let df = |u: &[f64], grad: &mut [f64]| -> Result<(), SolverError> {\n",
    "        example_two_grad(&p, u, grad);\n",
    "        Ok(())\n",
    "    };\n",
    "\n",
    "    let f = |u: &[f64], c: &mut f64| -> Result<(), SolverError> {\n",
    "        *c = example_two_cost(&p, u);\n",
    "        Ok(())\n",
    "    };\n",
    "\n",
    "    // define the constraints\n",
    "    let bounds = Rectangle::new(None, Option::from(upper_bound.as_slice()));\n",
    "    //let bounds = Ball2::new(None, upper_bound);\n",
    "\n",
    "    /* PROBLEM STATEMENT */\n",
    "    let problem = Problem::new(&bounds, df, f);\n",
    "    let mut panoc_cache = PANOCCache::new(problem_size, tolerance, lbfgs_memory_size);\n",
    "    let mut panoc = PANOCOptimizer::new(problem, &mut panoc_cache).with_max_iter(max_iters);\n",
    "\n",
    "    // Invoke the solver\n",
    "    let status = panoc.solve(&mut u);\n",
    "\n",
    "    println!(\"Panoc status: {:#?}\", status);\n",
    "    println!(\"Panoc solution: {:#?}\", u);\n",
    "}"
   ]
  },
  {
   "cell_type": "markdown",
   "metadata": {},
   "source": [
    "#### Result\n",
    "\n",
    "##### For the case $p_1 = 10$, $p_2 = 5$:"
   ]
  },
  {
   "cell_type": "code",
   "execution_count": 10,
   "metadata": {},
   "outputs": [
    {
     "name": "stdout",
     "output_type": "stream",
     "text": [
      "Panoc status: Ok(\n",
      "    SolverStatus {\n",
      "        exit_status: Converged,\n",
      "        num_iter: 1,\n",
      "        solve_time: 1.399µs,\n",
      "        fpr_norm: 0.0,\n",
      "        cost_value: 25.0,\n",
      "    },\n",
      ")\n",
      "Panoc solution: [\n",
      "    5.0,\n",
      "    0.9000009,\n",
      "]\n"
     ]
    }
   ],
   "source": [
    "main_example_two(&[10.0,5.0]);"
   ]
  },
  {
   "cell_type": "markdown",
   "metadata": {},
   "source": [
    "Note that the second solution element is dummy, as I used \"u\" in \"main_example_two\" as a vector. "
   ]
  },
  {
   "cell_type": "markdown",
   "metadata": {},
   "source": [
    "##### For the case $p_1 = -10, p_2 = 5$:"
   ]
  },
  {
   "cell_type": "code",
   "execution_count": 11,
   "metadata": {},
   "outputs": [
    {
     "name": "stdout",
     "output_type": "stream",
     "text": [
      "Panoc status: Ok(\n",
      "    SolverStatus {\n",
      "        exit_status: Converged,\n",
      "        num_iter: 3,\n",
      "        solve_time: 3.489µs,\n",
      "        fpr_norm: 0.0000000000000017763568394002505,\n",
      "        cost_value: 0.0000000000000000000000000000031554436208840472,\n",
      "    },\n",
      ")\n",
      "Panoc solution: [\n",
      "    -10.0,\n",
      "    0.9000009,\n",
      "]\n"
     ]
    }
   ],
   "source": [
    "main_example_two(&[-10.0,5.0]);"
   ]
  },
  {
   "cell_type": "markdown",
   "metadata": {},
   "source": [
    "The above results are the same as those from **the panelty method Python interface** in [here](https://github.com/inmo-jang/optimisation_tutorial/blob/master/tools_examples/OpEn/examples_python/OpEn_Python_Panelty.ipynb)."
   ]
  },
  {
   "cell_type": "markdown",
   "metadata": {},
   "source": [
    "### Comparison with Python Interface: Rust is much faster\n",
    "\n",
    "Using rust seems much faster: rust solves this example problem in 3 micro seconds, whereas the python interface solves it in 50 ms.  "
   ]
  }
 ],
 "metadata": {
  "_draft": {
   "nbviewer_url": "https://gist.github.com/4f1590278592d1039147b01c055c21ca"
  },
  "gist": {
   "data": {
    "description": "home/inmo/Jupyter/OpEn_Rust_example.ipynb",
    "public": true
   },
   "id": "4f1590278592d1039147b01c055c21ca"
  },
  "kernelspec": {
   "display_name": "Rust",
   "language": "rust",
   "name": "rust"
  },
  "language_info": {
   "codemirror_mode": "rust",
   "file_extension": ".rs",
   "mimetype": "text/rust",
   "name": "Rust",
   "pygment_lexer": "rust",
   "version": ""
  }
 },
 "nbformat": 4,
 "nbformat_minor": 4
}